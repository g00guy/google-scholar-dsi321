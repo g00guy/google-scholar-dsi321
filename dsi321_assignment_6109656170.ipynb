{
 "cells": [
  {
   "cell_type": "code",
   "execution_count": null,
   "metadata": {},
   "outputs": [],
   "source": [
    "from bs4 import BeautifulSoup as bs\n",
    "import pandas as pd\n",
    "import time\n",
    "import requests\n",
    "import random"
   ]
  },
  {
   "cell_type": "code",
   "execution_count": null,
   "metadata": {},
   "outputs": [],
   "source": [
    "from selenium import webdriver\n",
    "from bs4 import BeautifulSoup\n",
    "from requests import get\n",
    "import pandas as pd\n",
    "\n",
    "driver = webdriver.Chrome(\"chromedriver\")\n",
    "driver.get('https://scholar.google.com/citations?view_op=view_org&hl=en&org=10241031385301082500')\n"
   ]
  },
  {
   "cell_type": "code",
   "execution_count": null,
   "metadata": {},
   "outputs": [],
   "source": [
    "author = pd.DataFrame(columns=['user_ID','name','affiliation'])"
   ]
  },
  {
   "cell_type": "code",
   "execution_count": null,
   "metadata": {},
   "outputs": [],
   "source": [
    "row = 0\n",
    "while True:\n",
    "    \n",
    "    \n",
    "    all_ele = driver.find_elements_by_class_name('gsc_1usr')\n",
    "    for i in all_ele:\n",
    "        link = i.find_element_by_class_name('gs_ai_pho')\n",
    "        id = str(link.get_attribute('href')).replace('https://scholar.google.com/citations?hl=en&user=','')\n",
    "        name = i.find_element_by_class_name('gs_ai_name')\n",
    "        name = name.text \n",
    "        af = i.find_element_by_class_name('gs_ai_aff')\n",
    "        af = af.text\n",
    "        author.loc[row]=[id,name,af]\n",
    "        row +=1\n",
    "   \n",
    "    \n",
    "    page = requests.get(driver.current_url)\n",
    "    soup = BeautifulSoup(page.content)\n",
    "    results = soup.find_all(class_='gs_btnPR')\n",
    "    if results[0].has_attr('onclick'):\n",
    "        driver.find_element_by_css_selector(\".gs_btnPR\").click()\n",
    "    else:\n",
    "        break\n",
    "    time.sleep(random.randint(2,5))"
   ]
  },
  {
   "cell_type": "code",
   "execution_count": null,
   "metadata": {},
   "outputs": [],
   "source": [
    "driver.close()"
   ]
  },
  {
   "cell_type": "code",
   "execution_count": null,
   "metadata": {},
   "outputs": [],
   "source": [
    "author"
   ]
  },
  {
   "cell_type": "code",
   "execution_count": null,
   "metadata": {},
   "outputs": [],
   "source": [
    "paper = pd.DataFrame(columns=['title','authors','publication_date','description','cite_by'])"
   ]
  },
  {
   "cell_type": "code",
   "execution_count": null,
   "metadata": {},
   "outputs": [],
   "source": [
    "driver = webdriver.Chrome(\"chromedriver\")\n",
    "row = 0\n",
    "re = 0\n",
    "for usr_id in author['user_ID']:\n",
    "    driver.get('https://scholar.google.com/citations?hl=en&user='+usr_id)\n",
    "\n",
    "    a=driver.find_elements_by_class_name('gs_btnPD')\n",
    "    while a[0].is_enabled()==True:\n",
    "        driver.find_element_by_class_name('gs_btnPD').click()\n",
    "        time.sleep(3)\n",
    "    link = driver.find_elements_by_class_name('gsc_a_at')\n",
    "    link = [i.get_attribute('data-href') for i in link]\n",
    "    print(len(link))\n",
    "\n",
    "    for url in link:\n",
    "        driver.get('https://scholar.google.com/'+url)\n",
    "        try :\n",
    "            \n",
    "            table = driver.find_element_by_id('gsc_vcd_table')\n",
    "            b = table.find_elements_by_class_name('gs_scl')\n",
    "            title =''\n",
    "            Au = ''\n",
    "            PD = ''\n",
    "            Des = ''\n",
    "            cited = ''\n",
    "            for i in b:\n",
    "                title = driver.find_elements_by_class_name('gsc_vcd_title_link')[0].text\n",
    "                if i.find_elements_by_class_name('gsc_vcd_field')[0].text == 'Authors':\n",
    "                    Au = i.find_elements_by_class_name('gsc_vcd_value')[0].text\n",
    "                elif i.find_elements_by_class_name('gsc_vcd_field')[0].text == 'Publication date':\n",
    "                    PD =i.find_elements_by_class_name('gsc_vcd_value')[0].text\n",
    "                elif i.find_elements_by_class_name('gsc_vcd_field')[0].text == 'Description':\n",
    "                    Des =i.find_elements_by_class_name('gsc_vcd_value')[0].text\n",
    "                elif i.find_elements_by_class_name('gsc_vcd_field')[0].text == 'Total citations':\n",
    "                    cited =i.find_elements_by_css_selector('a')[0].text.replace('Cited by ','')\n",
    "            for token in Au.split(','):\n",
    "                paper.loc[row]=[title,token,PD,Des,cited]\n",
    "                row += 1\n",
    "        except :\n",
    "            pass\n",
    "        \n",
    "        print('people pass',re)\n",
    "        print('no.',len(paper))\n",
    "        time.sleep(2)\n",
    "    re += 1"
   ]
  },
  {
   "cell_type": "code",
   "execution_count": null,
   "metadata": {
    "scrolled": true
   },
   "outputs": [],
   "source": [
    "paper"
   ]
  },
  {
   "cell_type": "code",
   "execution_count": null,
   "metadata": {},
   "outputs": [],
   "source": [
    "driver.close()  "
   ]
  },
  {
   "cell_type": "code",
   "execution_count": null,
   "metadata": {},
   "outputs": [],
   "source": [
    "author.to_csv('author.csv')\n",
    "paper.to_csv('paper.csv')"
   ]
  },
  {
   "cell_type": "code",
   "execution_count": null,
   "metadata": {},
   "outputs": [],
   "source": []
  }
 ],
 "metadata": {
  "kernelspec": {
   "display_name": "Python 3",
   "language": "python",
   "name": "python3"
  },
  "language_info": {
   "codemirror_mode": {
    "name": "ipython",
    "version": 3
   },
   "file_extension": ".py",
   "mimetype": "text/x-python",
   "name": "python",
   "nbconvert_exporter": "python",
   "pygments_lexer": "ipython3",
   "version": "3.7.1"
  }
 },
 "nbformat": 4,
 "nbformat_minor": 4
}
